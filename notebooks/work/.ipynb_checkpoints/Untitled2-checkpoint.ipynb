{
 "cells": [
  {
   "cell_type": "code",
   "execution_count": 5,
   "id": "a170c61e-0447-4e74-916e-473e703636bc",
   "metadata": {},
   "outputs": [
    {
     "ename": "ModuleNotFoundError",
     "evalue": "No module named 'mlflow'",
     "output_type": "error",
     "traceback": [
      "\u001b[0;31m---------------------------------------------------------------------------\u001b[0m",
      "\u001b[0;31mModuleNotFoundError\u001b[0m                       Traceback (most recent call last)",
      "Cell \u001b[0;32mIn [5], line 1\u001b[0m\n\u001b[0;32m----> 1\u001b[0m \u001b[38;5;28;01mimport\u001b[39;00m \u001b[38;5;21;01mmlflow\u001b[39;00m\n\u001b[1;32m      2\u001b[0m \u001b[38;5;28;01mimport\u001b[39;00m \u001b[38;5;21;01mwarnings\u001b[39;00m\n\u001b[1;32m      3\u001b[0m \u001b[38;5;28;01mfrom\u001b[39;00m \u001b[38;5;21;01msklearn\u001b[39;00m\u001b[38;5;21;01m.\u001b[39;00m\u001b[38;5;21;01mdatasets\u001b[39;00m \u001b[38;5;28;01mimport\u001b[39;00m load_diabetes\n",
      "\u001b[0;31mModuleNotFoundError\u001b[0m: No module named 'mlflow'"
     ]
    }
   ],
   "source": [
    "import mlflow\n",
    "import warnings\n",
    "from sklearn.datasets import load_diabetes\n",
    "from sklearn.model_selection import train_test_split\n",
    "from sklearn.ensemble import RandomForestRegressor\n",
    "from sklearn.metrics import mean_squared_error"
   ]
  },
  {
   "cell_type": "code",
   "execution_count": 3,
   "id": "eaeed999",
   "metadata": {},
   "outputs": [
    {
     "name": "stdout",
     "output_type": "stream",
     "text": [
      "\u001b[31mERROR: Could not find a version that satisfies the requirement mflow==2.6.0 (from versions: none)\u001b[0m\u001b[31m\n",
      "\u001b[0m\u001b[31mERROR: No matching distribution found for mflow==2.6.0\u001b[0m\u001b[31m\n",
      "\u001b[0mNote: you may need to restart the kernel to use updated packages.\n"
     ]
    }
   ],
   "source": [
    "pip install mflow==2.6.0"
   ]
  },
  {
   "cell_type": "code",
   "execution_count": null,
   "id": "3036252b-0e25-4522-86da-77eb0984bb90",
   "metadata": {},
   "outputs": [],
   "source": [
    "warnings.filterwarnings(\"ignore\")"
   ]
  },
  {
   "cell_type": "code",
   "execution_count": null,
   "id": "16f6eb7f-82a1-4871-945d-a83730634817",
   "metadata": {},
   "outputs": [],
   "source": [
    "mlflow.set_tracking_uri('http://mlflow_server:5000')"
   ]
  },
  {
   "cell_type": "code",
   "execution_count": null,
   "id": "c2b89812-1735-4fa5-a385-982b3ecd8352",
   "metadata": {},
   "outputs": [
    {
     "name": "stderr",
     "output_type": "stream",
     "text": [
      "2024/02/28 15:07:05 INFO mlflow.tracking.fluent: Experiment with name 'experiment_28022024' does not exist. Creating a new experiment.\n"
     ]
    },
    {
     "data": {
      "text/plain": [
       "<Experiment: artifact_location='s3://mlflow/2', creation_time=1709132825487, experiment_id='2', last_update_time=1709132825487, lifecycle_stage='active', name='experiment_28022024', tags={}>"
      ]
     },
     "execution_count": 4,
     "metadata": {},
     "output_type": "execute_result"
    }
   ],
   "source": [
    "experiment_name = \"experiment_28022024\"\n",
    "mlflow.set_experiment(experiment_name)"
   ]
  },
  {
   "cell_type": "code",
   "execution_count": null,
   "id": "80f4f411-6804-4a5f-85ee-a5d596f86d1a",
   "metadata": {
    "tags": []
   },
   "outputs": [
    {
     "name": "stderr",
     "output_type": "stream",
     "text": [
      "2024/02/28 15:07:13 INFO mlflow.tracking.fluent: Autologging successfully enabled for sklearn.\n",
      "2024/02/28 15:07:13 WARNING mlflow.spark: With Pyspark >= 3.2, PYSPARK_PIN_THREAD environment variable must be set to false for Spark datasource autologging to work.\n",
      "2024/02/28 15:07:13 INFO mlflow.tracking.fluent: Autologging successfully enabled for pyspark.\n",
      "2024/02/28 15:07:13 INFO mlflow.utils.autologging_utils: Created MLflow autologging run with ID '4793b637987c4b6ab26eb1da4f7bdc5c', which will track hyperparameters, performance metrics, model artifacts, and lineage information for the current sklearn workflow\n"
     ]
    }
   ],
   "source": [
    "import mlflow\n",
    "\n",
    "from sklearn.model_selection import train_test_split\n",
    "from sklearn.datasets import load_diabetes\n",
    "from sklearn.ensemble import RandomForestRegressor\n",
    "\n",
    "mlflow.autolog()\n",
    "\n",
    "db = load_diabetes()\n",
    "X_train, X_test, y_train, y_test = train_test_split(db.data, db.target)\n",
    "\n",
    "# Create and train models.\n",
    "rf = RandomForestRegressor(n_estimators=100, max_depth=6, max_features=3)\n",
    "rf.fit(X_train, y_train)\n",
    "\n",
    "# Use the model to make predictions on the test dataset.\n",
    "predictions = rf.predict(X_test)"
   ]
  },
  {
   "cell_type": "code",
   "execution_count": null,
   "id": "5bf07270-ba84-413c-be90-91c95871c79c",
   "metadata": {},
   "outputs": [],
   "source": [
    "model_uri = \"s3://mlflow/1/a60ad6afeb5842dcb48a7e13951b3680/artifacts/model\""
   ]
  },
  {
   "cell_type": "code",
   "execution_count": null,
   "id": "e487d4fd-4a1e-4412-ae4b-6fdd372c8073",
   "metadata": {},
   "outputs": [
    {
     "data": {
      "application/vnd.jupyter.widget-view+json": {
       "model_id": "02e4f791730249e2b14010d01243ada4",
       "version_major": 2,
       "version_minor": 0
      },
      "text/plain": [
       "Downloading artifacts:   0%|          | 0/5 [00:00<?, ?it/s]"
      ]
     },
     "metadata": {},
     "output_type": "display_data"
    }
   ],
   "source": [
    "loaded_model = mlflow.sklearn.load_model(model_uri)"
   ]
  },
  {
   "cell_type": "code",
   "execution_count": null,
   "id": "de8dcb41-d882-44f7-8916-d7f85f6445a6",
   "metadata": {},
   "outputs": [],
   "source": [
    "# Dự đoán kết quả trên dữ liệu kiểm tra\n",
    "test_predictions = loaded_model.predict(X_test)"
   ]
  },
  {
   "cell_type": "code",
   "execution_count": null,
   "id": "3c35d4ab-d282-4bea-868e-52932a27daee",
   "metadata": {},
   "outputs": [
    {
     "name": "stdout",
     "output_type": "stream",
     "text": [
      "Mean Squared Error: 1428.8457919914154\n"
     ]
    }
   ],
   "source": [
    "mse = mean_squared_error(y_test, test_predictions)\n",
    "print(\"Mean Squared Error:\", mse)"
   ]
  },
  {
   "cell_type": "code",
   "execution_count": null,
   "id": "bd95bb9a-d874-4904-9ab4-25519afb4b66",
   "metadata": {},
   "outputs": [
    {
     "name": "stdout",
     "output_type": "stream",
     "text": [
      "[ 97.00699632 110.4119345   94.17331421 172.77737944 234.29266845\n",
      " 186.49536149 123.09543623 174.36436919 149.64855082 115.89607371\n",
      " 247.20749627 193.16471559  86.72628131 185.7945213  158.50290963\n",
      " 172.28881819  86.40263616 127.52234933 203.24151615  90.77657426\n",
      " 123.28985689 198.72188837  96.73419144 113.97320873 150.6225939\n",
      " 144.63759964 106.50364981  90.620809   147.57741153 201.18812088\n",
      " 239.45462339 149.64750734 244.33277579  91.90940522 114.85544118\n",
      " 147.74624541  74.04772248 203.71872202 186.40164801  86.18860621\n",
      " 221.03454586 108.9273607  264.33408548 229.93777838 131.00229002\n",
      "  87.07791928 203.65578512  81.83060373 152.90609132 237.52312131\n",
      " 192.5976787   86.659937    95.01135088 157.71624739 170.58348886\n",
      " 195.92481051 164.30640852 122.68631944 158.45855199  94.39694853\n",
      "  87.75841596  92.94701831 105.47277793 138.63009959 179.04756904\n",
      " 243.88252513 148.4077205  169.67312392 203.08706777 215.64540266\n",
      " 124.88985063 195.3315935  175.30013228 153.0475138   83.84184017\n",
      " 156.12091014 198.17125695 181.78837241  86.61992376  85.24308098\n",
      "  98.56729238  95.17296339  84.08293632  85.0616457   94.66293069\n",
      " 181.31715873 125.80467753 110.97376943 187.79107786 177.25351929\n",
      " 196.22007776 104.97796393  87.7481618   96.44563636 162.0243097\n",
      " 238.44420937 227.56290435 101.24811736 146.15792906 154.6369277\n",
      " 135.62177384 168.27843134 217.23684588  90.64197937 119.94286489\n",
      " 244.42556691 141.89966259  76.25491321 198.31568511  97.88478932\n",
      " 103.70875716]\n"
     ]
    }
   ],
   "source": [
    "print(test_predictions)"
   ]
  },
  {
   "cell_type": "code",
   "execution_count": null,
   "id": "3d2bbd54-3046-4f4f-8f79-57853f10e668",
   "metadata": {},
   "outputs": [],
   "source": []
  }
 ],
 "metadata": {
  "kernelspec": {
   "display_name": "Python 3 (ipykernel)",
   "language": "python",
   "name": "python3"
  },
  "language_info": {
   "codemirror_mode": {
    "name": "ipython",
    "version": 3
   },
   "file_extension": ".py",
   "mimetype": "text/x-python",
   "name": "python",
   "nbconvert_exporter": "python",
   "pygments_lexer": "ipython3",
   "version": "3.9.13"
  }
 },
 "nbformat": 4,
 "nbformat_minor": 5
}
