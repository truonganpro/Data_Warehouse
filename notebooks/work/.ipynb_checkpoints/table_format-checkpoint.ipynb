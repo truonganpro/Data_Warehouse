{
 "cells": [
  {
   "cell_type": "code",
   "execution_count": 4,
   "metadata": {},
   "outputs": [],
   "source": [
    "from pyspark.sql import SparkSession"
   ]
  },
  {
   "cell_type": "code",
   "execution_count": 5,
   "metadata": {},
   "outputs": [],
   "source": [
    "\n",
    "spark = SparkSession.builder \\\n",
    "    .appName('Ingest checkin table into bronze') \\\n",
    "    .master('spark://spark-master:7077') \\\n",
    "    .config(\"hive.metastore.uris\", \"thrift://hive-metastore:9083\")\\\n",
    "    .config(\"spark.hadoop.fs.s3a.access.key\", 'minio') \\\n",
    "    .config(\"spark.hadoop.fs.s3a.secret.key\", 'minio123') \\\n",
    "    .config(\"spark.hadoop.fs.s3a.endpoint\", 'minio:9000')\\\n",
    "    .config(\"spark.hadoop.fs.s3a.path.style.access\", \"true\")\\\n",
    "    .config(\"spark.hadoop.fs.s3a.impl\", \"org.apache.hadoop.fs.s3a.S3AFileSystem\") \\\n",
    "    .config(\"spark.hadoop.fs.s3a.connection.ssl.enabled\", \"false\")\\\n",
    "    .config('spark.hadoop.fs.s3a.aws.credentials.provider', 'org.apache.hadoop.fs.s3a.SimpleAWSCredentialsProvider')\\\n",
    "    .config(\"spark.sql.extensions\", \"io.delta.sql.DeltaSparkSessionExtension\") \\\n",
    "    .config(\"spark.sql.catalog.spark_catalog\", \"org.apache.spark.sql.delta.catalog.DeltaCatalog\")\\\n",
    "    .config('spark.sql.warehouse.dir', f's3a://lakehouse/')\\\n",
    "    .enableHiveSupport()\\\n",
    "    .getOrCreate()"
   ]
  },
  {
   "cell_type": "code",
   "execution_count": 6,
   "metadata": {},
   "outputs": [
    {
     "name": "stdout",
     "output_type": "stream",
     "text": [
      "+---------+\n",
      "|namespace|\n",
      "+---------+\n",
      "|  default|\n",
      "|     gold|\n",
      "|  platium|\n",
      "|   silver|\n",
      "+---------+\n",
      "\n"
     ]
    }
   ],
   "source": [
    "spark.sql('show schemas').show()"
   ]
  },
  {
   "cell_type": "code",
   "execution_count": 4,
   "metadata": {},
   "outputs": [
    {
     "name": "stdout",
     "output_type": "stream",
     "text": [
      "+--------------------+--------------------+------------------------+--------------+--------------+\n",
      "|         customer_id|  customer_unique_id|customer_zip_code_prefix| customer_city|customer_state|\n",
      "+--------------------+--------------------+------------------------+--------------+--------------+\n",
      "|0054556ea954a76ad...|3cc8e80baa86a7bef...|                   95680|        canela|            SP|\n",
      "|009bd844996868ab5...|63df52c362d4b7183...|                   13076|      campinas|            SP|\n",
      "|00abf30c1a93c7c8b...|d43e7cbf7354f1f46...|                    6226|        osasco|            SP|\n",
      "|02625456293ab29f0...|570eb70ff97166b85...|                   31930|belo horizonte|            MG|\n",
      "|028514f8be6e8c2ad...|be4d46b2c26abc028...|                   35200|       aimores|            MG|\n",
      "+--------------------+--------------------+------------------------+--------------+--------------+\n",
      "\n"
     ]
    }
   ],
   "source": [
    "spark.sql(\"Select * from silver.cleaned_customer\").limit(5).show()"
   ]
  },
  {
   "cell_type": "code",
   "execution_count": 12,
   "metadata": {},
   "outputs": [
    {
     "data": {
      "text/plain": [
       "DataFrame[num_affected_rows: bigint]"
      ]
     },
     "execution_count": 12,
     "metadata": {},
     "output_type": "execute_result"
    }
   ],
   "source": [
    "spark.sql(\"UPDATE silver.cleaned_customer set customer_state= 'SP' where customer_id = '0054556ea954a76ad6f9c4ba79d34a98'\")"
   ]
  },
  {
   "cell_type": "code",
   "execution_count": 13,
   "metadata": {},
   "outputs": [
    {
     "name": "stdout",
     "output_type": "stream",
     "text": [
      "+--------+\n",
      "|count(1)|\n",
      "+--------+\n",
      "|   99441|\n",
      "+--------+\n",
      "\n"
     ]
    }
   ],
   "source": [
    "spark.sql(\"SELECT count(*) FROM silver.cleaned_customer\").show()"
   ]
  },
  {
   "cell_type": "code",
   "execution_count": 15,
   "metadata": {},
   "outputs": [
    {
     "name": "stdout",
     "output_type": "stream",
     "text": [
      "+--------------------------------+\n",
      "|customer_id                     |\n",
      "+--------------------------------+\n",
      "|36a1aa63bf2ebcd4911e026092700610|\n",
      "|512f27d822abe6af95d86529e73724a6|\n",
      "|384fbbcdcf45c174ca6407d4ade90112|\n",
      "|4632eb5a8f175f6fe020520ae0c678f3|\n",
      "|174cf4e5e95b5a49bac9cee9ef6cef70|\n",
      "+--------------------------------+\n",
      "only showing top 5 rows\n",
      "\n"
     ]
    }
   ],
   "source": [
    "spark.sql(\"SELECT DISTINCT(customer_id) FROM silver.cleaned_customer\").show(5,False)"
   ]
  },
  {
   "cell_type": "markdown",
   "metadata": {},
   "source": [
    "## Delta Lake\n"
   ]
  },
  {
   "cell_type": "markdown",
   "metadata": {},
   "source": [
    "### Transaction log"
   ]
  },
  {
   "cell_type": "code",
   "execution_count": 30,
   "metadata": {},
   "outputs": [
    {
     "data": {
      "text/plain": [
       "DataFrame[version: bigint, timestamp: timestamp, userId: string, userName: string, operation: string, operationParameters: map<string,string>, job: struct<jobId:string,jobName:string,runId:string,jobOwnerId:string,triggerType:string>, notebook: struct<notebookId:string>, clusterId: string, readVersion: bigint, isolationLevel: string, isBlindAppend: boolean, operationMetrics: map<string,string>, userMetadata: string, engineInfo: string]"
      ]
     },
     "execution_count": 30,
     "metadata": {},
     "output_type": "execute_result"
    }
   ],
   "source": [
    "spark.sql(\"DESCRIBE HISTORY silver.cleaned_customer\")"
   ]
  },
  {
   "cell_type": "code",
   "execution_count": 31,
   "metadata": {},
   "outputs": [
    {
     "data": {
      "text/plain": [
       "DataFrame[num_affected_rows: bigint]"
      ]
     },
     "execution_count": 31,
     "metadata": {},
     "output_type": "execute_result"
    }
   ],
   "source": [
    "spark.sql(\"DELETE FROM silver.cleaned_customer where customer_id = '0054556ea954a76ad6f9c4ba79d34a98'\")"
   ]
  },
  {
   "cell_type": "markdown",
   "metadata": {},
   "source": [
    "### Schema Evolution"
   ]
  },
  {
   "cell_type": "code",
   "execution_count": 8,
   "metadata": {},
   "outputs": [
    {
     "data": {
      "text/plain": [
       "DataFrame[]"
      ]
     },
     "execution_count": 8,
     "metadata": {},
     "output_type": "execute_result"
    }
   ],
   "source": [
    "spark.sql(\"ALTER TABLE silver.cleaned_customer ADD COLUMN PHONE STRING\")"
   ]
  },
  {
   "cell_type": "code",
   "execution_count": 10,
   "metadata": {},
   "outputs": [
    {
     "name": "stdout",
     "output_type": "stream",
     "text": [
      "+--------------------------------+--------------------------------+------------------------+--------------+--------------+-----+\n",
      "|customer_id                     |customer_unique_id              |customer_zip_code_prefix|customer_city |customer_state|PHONE|\n",
      "+--------------------------------+--------------------------------+------------------------+--------------+--------------+-----+\n",
      "|009bd844996868ab5166ade7dd9ab471|63df52c362d4b7183bb6a463452a8183|13076                   |campinas      |SP            |null |\n",
      "|00abf30c1a93c7c8b509cb80a22e4dd8|d43e7cbf7354f1f46a7a1b30701017b3|6226                    |osasco        |SP            |null |\n",
      "|02625456293ab29f0b11a84835a8c0ab|570eb70ff97166b85ea96be3bfb65fef|31930                   |belo horizonte|MG            |null |\n",
      "|028514f8be6e8c2adb9d0b4647ef3a39|be4d46b2c26abc0280f42d8325aa54a0|35200                   |aimores       |MG            |null |\n",
      "|033225f6250f5ebf765eb90c41cd9c35|07b9a37d717b53a556e7c27669dfab57|83702                   |araucaria     |PR            |null |\n",
      "+--------------------------------+--------------------------------+------------------------+--------------+--------------+-----+\n",
      "only showing top 5 rows\n",
      "\n"
     ]
    }
   ],
   "source": [
    "spark.sql(\"SELECT * FROM silver.cleaned_customer\").show(5,False)"
   ]
  },
  {
   "cell_type": "markdown",
   "metadata": {},
   "source": [
    "### Schema Enforcement"
   ]
  },
  {
   "cell_type": "code",
   "execution_count": 12,
   "metadata": {},
   "outputs": [
    {
     "data": {
      "text/plain": [
       "DataFrame[]"
      ]
     },
     "execution_count": 12,
     "metadata": {},
     "output_type": "execute_result"
    }
   ],
   "source": [
    "spark.sql(\"INSERT INTO silver.cleaned_customer VALUES ('119bd844996868abt166ade7dd9ab471','77df52c362c4b7183bb6a463452a8183',77665,'an nhon','an','0333333333')\")"
   ]
  },
  {
   "cell_type": "code",
   "execution_count": 23,
   "metadata": {},
   "outputs": [
    {
     "name": "stdout",
     "output_type": "stream",
     "text": [
      "+--------------------+--------------------+------------------------+-------------------+--------------+-----+\n",
      "|         customer_id|  customer_unique_id|customer_zip_code_prefix|      customer_city|customer_state|PHONE|\n",
      "+--------------------+--------------------+------------------------+-------------------+--------------+-----+\n",
      "|009bd844996868ab5...|63df52c362d4b7183...|                   13076|           campinas|            SP| null|\n",
      "|00abf30c1a93c7c8b...|d43e7cbf7354f1f46...|                    6226|             osasco|            SP| null|\n",
      "|02625456293ab29f0...|570eb70ff97166b85...|                   31930|     belo horizonte|            MG| null|\n",
      "|028514f8be6e8c2ad...|be4d46b2c26abc028...|                   35200|            aimores|            MG| null|\n",
      "|033225f6250f5ebf7...|07b9a37d717b53a55...|                   83702|          araucaria|            PR| null|\n",
      "|03514f9ba6258fadc...|3a4f5d794447ef719...|                   75115|           anapolis|            GO| null|\n",
      "|04bf1a1d175bd70ee...|6afbf8b1d0c7c75be...|                   13295|            itupeva|            SP| null|\n",
      "|05f49d64b685d744c...|d9a1aaab532b2af5b...|                   51250|             recife|            PE| null|\n",
      "|067f45ab00b8417ea...|26b0aa1978f09039f...|                   57072|             maceio|            AL| null|\n",
      "|070571ebd72c8abf8...|ce062bc310d6e7ef2...|                   22080|     rio de janeiro|            RJ| null|\n",
      "|072727b98246cb0cc...|513f80bafbfe8644a...|                   15400|            olimpia|            SP| null|\n",
      "|0764fd70cf1809258...|7925dcb5128b04977...|                   15600|      fernandopolis|            SP| null|\n",
      "|07e3484d1d11aff52...|a374188c9711307c1...|                    8588|    itaquaquecetuba|            SP| null|\n",
      "|085fda9ad0f070bc3...|ad2daf149c1372561...|                   62810|             icapui|            CE| null|\n",
      "|09e038e546d675d90...|47cf41d2e19da7110...|                   12235|sao jose dos campos|            SP| null|\n",
      "|0a1be8bb3e919bc88...|fc685f5d020dbc22e...|                   38320|      santa vitoria|            MG| null|\n",
      "|0a29abf475fb8039d...|840f10bde3c949071...|                   75903|          rio verde|            GO| null|\n",
      "|0a8063db2632efe50...|4aab13ab7f6f9109f...|                   14680|       jardinopolis|            SP| null|\n",
      "|0aeeee00a80369aaa...|f3335c8623493fc04...|                   26010|        nova iguacu|            RJ| null|\n",
      "|0b735f09f901e6fd1...|a1de09e1d68d100d7...|                   24360|            niteroi|            RJ| null|\n",
      "+--------------------+--------------------+------------------------+-------------------+--------------+-----+\n",
      "only showing top 20 rows\n",
      "\n"
     ]
    }
   ],
   "source": [
    "spark.sql(\"\"\"\n",
    "SELECT * FROM silver.cleaned_customer VERSION AS OF 3\n",
    "\"\"\").show()"
   ]
  },
  {
   "cell_type": "code",
   "execution_count": 29,
   "metadata": {},
   "outputs": [
    {
     "name": "stdout",
     "output_type": "stream",
     "text": [
      "+--------------------+--------------------+------------------------+-------------------+--------------+\n",
      "|         customer_id|  customer_unique_id|customer_zip_code_prefix|      customer_city|customer_state|\n",
      "+--------------------+--------------------+------------------------+-------------------+--------------+\n",
      "|0054556ea954a76ad...|3cc8e80baa86a7bef...|                   95680|             canela|            RS|\n",
      "|009bd844996868ab5...|63df52c362d4b7183...|                   13076|           campinas|            SP|\n",
      "|00abf30c1a93c7c8b...|d43e7cbf7354f1f46...|                    6226|             osasco|            SP|\n",
      "|02625456293ab29f0...|570eb70ff97166b85...|                   31930|     belo horizonte|            MG|\n",
      "|028514f8be6e8c2ad...|be4d46b2c26abc028...|                   35200|            aimores|            MG|\n",
      "|033225f6250f5ebf7...|07b9a37d717b53a55...|                   83702|          araucaria|            PR|\n",
      "|03514f9ba6258fadc...|3a4f5d794447ef719...|                   75115|           anapolis|            GO|\n",
      "|04bf1a1d175bd70ee...|6afbf8b1d0c7c75be...|                   13295|            itupeva|            SP|\n",
      "|05f49d64b685d744c...|d9a1aaab532b2af5b...|                   51250|             recife|            PE|\n",
      "|067f45ab00b8417ea...|26b0aa1978f09039f...|                   57072|             maceio|            AL|\n",
      "|070571ebd72c8abf8...|ce062bc310d6e7ef2...|                   22080|     rio de janeiro|            RJ|\n",
      "|072727b98246cb0cc...|513f80bafbfe8644a...|                   15400|            olimpia|            SP|\n",
      "|0764fd70cf1809258...|7925dcb5128b04977...|                   15600|      fernandopolis|            SP|\n",
      "|07e3484d1d11aff52...|a374188c9711307c1...|                    8588|    itaquaquecetuba|            SP|\n",
      "|085fda9ad0f070bc3...|ad2daf149c1372561...|                   62810|             icapui|            CE|\n",
      "|09e038e546d675d90...|47cf41d2e19da7110...|                   12235|sao jose dos campos|            SP|\n",
      "|0a1be8bb3e919bc88...|fc685f5d020dbc22e...|                   38320|      santa vitoria|            MG|\n",
      "|0a29abf475fb8039d...|840f10bde3c949071...|                   75903|          rio verde|            GO|\n",
      "|0a8063db2632efe50...|4aab13ab7f6f9109f...|                   14680|       jardinopolis|            SP|\n",
      "|0aeeee00a80369aaa...|f3335c8623493fc04...|                   26010|        nova iguacu|            RJ|\n",
      "+--------------------+--------------------+------------------------+-------------------+--------------+\n",
      "only showing top 20 rows\n",
      "\n"
     ]
    }
   ],
   "source": [
    "spark.sql(\"\"\"\n",
    "SELECT * FROM silver.cleaned_customer TIMESTAMP AS OF '2024-07-01 13:50:00'\n",
    "\"\"\").show()"
   ]
  },
  {
   "cell_type": "markdown",
   "metadata": {},
   "source": [
    "### cache table"
   ]
  },
  {
   "cell_type": "code",
   "execution_count": 7,
   "metadata": {},
   "outputs": [
    {
     "data": {
      "text/plain": [
       "DataFrame[]"
      ]
     },
     "execution_count": 7,
     "metadata": {},
     "output_type": "execute_result"
    }
   ],
   "source": [
    "spark.sql(\"\"\"\n",
    "CACHE TABLE silver.cleaned_customer\n",
    "\"\"\")"
   ]
  },
  {
   "cell_type": "code",
   "execution_count": 11,
   "metadata": {},
   "outputs": [
    {
     "name": "stdout",
     "output_type": "stream",
     "text": [
      "+--------------------+--------------------+------------------------+-------------------+--------------+-----+\n",
      "|         customer_id|  customer_unique_id|customer_zip_code_prefix|      customer_city|customer_state|PHONE|\n",
      "+--------------------+--------------------+------------------------+-------------------+--------------+-----+\n",
      "|009bd844996868ab5...|63df52c362d4b7183...|                   13076|           campinas|            SP| null|\n",
      "|00abf30c1a93c7c8b...|d43e7cbf7354f1f46...|                    6226|             osasco|            SP| null|\n",
      "|02625456293ab29f0...|570eb70ff97166b85...|                   31930|     belo horizonte|            MG| null|\n",
      "|028514f8be6e8c2ad...|be4d46b2c26abc028...|                   35200|            aimores|            MG| null|\n",
      "|033225f6250f5ebf7...|07b9a37d717b53a55...|                   83702|          araucaria|            PR| null|\n",
      "|03514f9ba6258fadc...|3a4f5d794447ef719...|                   75115|           anapolis|            GO| null|\n",
      "|04bf1a1d175bd70ee...|6afbf8b1d0c7c75be...|                   13295|            itupeva|            SP| null|\n",
      "|05f49d64b685d744c...|d9a1aaab532b2af5b...|                   51250|             recife|            PE| null|\n",
      "|067f45ab00b8417ea...|26b0aa1978f09039f...|                   57072|             maceio|            AL| null|\n",
      "|070571ebd72c8abf8...|ce062bc310d6e7ef2...|                   22080|     rio de janeiro|            RJ| null|\n",
      "|072727b98246cb0cc...|513f80bafbfe8644a...|                   15400|            olimpia|            SP| null|\n",
      "|0764fd70cf1809258...|7925dcb5128b04977...|                   15600|      fernandopolis|            SP| null|\n",
      "|07e3484d1d11aff52...|a374188c9711307c1...|                    8588|    itaquaquecetuba|            SP| null|\n",
      "|085fda9ad0f070bc3...|ad2daf149c1372561...|                   62810|             icapui|            CE| null|\n",
      "|09e038e546d675d90...|47cf41d2e19da7110...|                   12235|sao jose dos campos|            SP| null|\n",
      "|0a1be8bb3e919bc88...|fc685f5d020dbc22e...|                   38320|      santa vitoria|            MG| null|\n",
      "|0a29abf475fb8039d...|840f10bde3c949071...|                   75903|          rio verde|            GO| null|\n",
      "|0a8063db2632efe50...|4aab13ab7f6f9109f...|                   14680|       jardinopolis|            SP| null|\n",
      "|0aeeee00a80369aaa...|f3335c8623493fc04...|                   26010|        nova iguacu|            RJ| null|\n",
      "|0b735f09f901e6fd1...|a1de09e1d68d100d7...|                   24360|            niteroi|            RJ| null|\n",
      "+--------------------+--------------------+------------------------+-------------------+--------------+-----+\n",
      "only showing top 20 rows\n",
      "\n"
     ]
    }
   ],
   "source": [
    "spark.sql(\"\"\"\n",
    "SELECT * FROM silver.cleaned_customer\n",
    "\"\"\").show()"
   ]
  },
  {
   "cell_type": "code",
   "execution_count": null,
   "metadata": {},
   "outputs": [],
   "source": []
  }
 ],
 "metadata": {
  "kernelspec": {
   "display_name": "Python 3 (ipykernel)",
   "language": "python",
   "name": "python3"
  },
  "language_info": {
   "codemirror_mode": {
    "name": "ipython",
    "version": 3
   },
   "file_extension": ".py",
   "mimetype": "text/x-python",
   "name": "python",
   "nbconvert_exporter": "python",
   "pygments_lexer": "ipython3",
   "version": "3.9.13"
  }
 },
 "nbformat": 4,
 "nbformat_minor": 2
}
